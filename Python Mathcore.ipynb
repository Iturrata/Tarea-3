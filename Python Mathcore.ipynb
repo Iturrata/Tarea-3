{
 "cells": [
  {
   "cell_type": "code",
   "execution_count": 61,
   "metadata": {},
   "outputs": [],
   "source": [
    "from robobrowser import RoboBrowser\n",
    "import folium\n",
    "import geocoder\n",
    "import pandas"
   ]
  },
  {
   "cell_type": "code",
   "execution_count": 62,
   "metadata": {},
   "outputs": [],
   "source": [
    "browser = RoboBrowser(parser='html5lib')\n",
    "url = 'https://en.wikipedia.org/wiki/List_of_mathcore_bands'"
   ]
  },
  {
   "cell_type": "code",
   "execution_count": 63,
   "metadata": {},
   "outputs": [],
   "source": [
    "browser.open(url)"
   ]
  },
  {
   "cell_type": "code",
   "execution_count": 64,
   "metadata": {},
   "outputs": [],
   "source": [
    "table = browser.select('#mw-content-text table')[0]"
   ]
  },
  {
   "cell_type": "code",
   "execution_count": 65,
   "metadata": {},
   "outputs": [],
   "source": [
    "t = table.__str__()"
   ]
  },
  {
   "cell_type": "code",
   "execution_count": 179,
   "metadata": {},
   "outputs": [
    {
     "data": {
      "text/html": [
       "<div>\n",
       "<style scoped>\n",
       "    .dataframe tbody tr th:only-of-type {\n",
       "        vertical-align: middle;\n",
       "    }\n",
       "\n",
       "    .dataframe tbody tr th {\n",
       "        vertical-align: top;\n",
       "    }\n",
       "\n",
       "    .dataframe thead th {\n",
       "        text-align: right;\n",
       "    }\n",
       "</style>\n",
       "<table border=\"1\" class=\"dataframe\">\n",
       "  <thead>\n",
       "    <tr style=\"text-align: right;\">\n",
       "      <th></th>\n",
       "      <th>Name</th>\n",
       "      <th>Country</th>\n",
       "      <th>Formed</th>\n",
       "      <th>Notes</th>\n",
       "    </tr>\n",
       "  </thead>\n",
       "  <tbody>\n",
       "    <tr>\n",
       "      <th>0</th>\n",
       "      <td>Architects</td>\n",
       "      <td>U.K.</td>\n",
       "      <td>2004</td>\n",
       "      <td>NaN</td>\n",
       "    </tr>\n",
       "    <tr>\n",
       "      <th>1</th>\n",
       "      <td>American Standards</td>\n",
       "      <td>U.S.</td>\n",
       "      <td>2011</td>\n",
       "      <td>[1]</td>\n",
       "    </tr>\n",
       "    <tr>\n",
       "      <th>2</th>\n",
       "      <td>Benea Reach</td>\n",
       "      <td>Norway</td>\n",
       "      <td>2003</td>\n",
       "      <td>[2][3]</td>\n",
       "    </tr>\n",
       "    <tr>\n",
       "      <th>3</th>\n",
       "      <td>Blood Has Been Shed</td>\n",
       "      <td>U.S.</td>\n",
       "      <td>1997</td>\n",
       "      <td>[4]</td>\n",
       "    </tr>\n",
       "    <tr>\n",
       "      <th>4</th>\n",
       "      <td>Botch</td>\n",
       "      <td>U.S.</td>\n",
       "      <td>1993</td>\n",
       "      <td>[5][6][7][8]</td>\n",
       "    </tr>\n",
       "  </tbody>\n",
       "</table>\n",
       "</div>"
      ],
      "text/plain": [
       "                  Name Country  Formed         Notes\n",
       "0           Architects    U.K.    2004           NaN\n",
       "1   American Standards    U.S.    2011           [1]\n",
       "2          Benea Reach  Norway    2003        [2][3]\n",
       "3  Blood Has Been Shed    U.S.    1997           [4]\n",
       "4                Botch    U.S.    1993  [5][6][7][8]"
      ]
     },
     "execution_count": 179,
     "metadata": {},
     "output_type": "execute_result"
    }
   ],
   "source": [
    "df = pandas.read_html(t, header = 0)[0]\n",
    "df.head()"
   ]
  },
  {
   "cell_type": "code",
   "execution_count": 67,
   "metadata": {},
   "outputs": [],
   "source": [
    "d=df.to_dict(orient='split')"
   ]
  },
  {
   "cell_type": "code",
   "execution_count": 68,
   "metadata": {},
   "outputs": [],
   "source": [
    "data = d['data']"
   ]
  },
  {
   "cell_type": "code",
   "execution_count": 127,
   "metadata": {},
   "outputs": [
    {
     "data": {
      "text/plain": [
       "{'U.K.': 2,\n",
       " 'U.S.': 17,\n",
       " 'Norway': 1,\n",
       " 'Canada': 2,\n",
       " 'England': 1,\n",
       " 'Switzerland': 1,\n",
       " 'Germany': 1}"
      ]
     },
     "execution_count": 127,
     "metadata": {},
     "output_type": "execute_result"
    }
   ],
   "source": [
    "asdf = {}\n",
    "for x in data:\n",
    "    if x[1] in asdf:\n",
    "        asdf[x[1]] = asdf[x[1]] + 1\n",
    "    else:\n",
    "        asdf[x[1]] = 1\n",
    "    \n",
    "asdf"
   ]
  },
  {
   "cell_type": "code",
   "execution_count": 181,
   "metadata": {},
   "outputs": [
    {
     "name": "stdout",
     "output_type": "stream",
     "text": [
      "U.K.\n",
      "[55.378051, -3.435973]\n",
      "U.S.\n",
      "[37.09024, -95.712891]\n",
      "Norway\n",
      "[60.47202399999999, 8.468945999999999]\n",
      "Canada\n",
      "[56.130366, -106.346771]\n",
      "England\n",
      "[52.3555177, -1.1743197]\n",
      "Switzerland\n",
      "[46.818188, 8.227511999999999]\n",
      "Germany\n",
      "[51.165691, 10.451526]\n"
     ]
    },
    {
     "data": {
      "text/plain": [
       "[('U.K.', [55.378051, -3.435973], 2),\n",
       " ('U.S.', [37.09024, -95.712891], 17),\n",
       " ('Norway', [60.47202399999999, 8.468945999999999], 1),\n",
       " ('Canada', [56.130366, -106.346771], 2),\n",
       " ('England', [52.3555177, -1.1743197], 1),\n",
       " ('Switzerland', [46.818188, 8.227511999999999], 1),\n",
       " ('Germany', [51.165691, 10.451526], 1)]"
      ]
     },
     "execution_count": 181,
     "metadata": {},
     "output_type": "execute_result"
    }
   ],
   "source": [
    "l=[]\n",
    "for x in asdf:\n",
    "    lugar = x\n",
    "    print (lugar)\n",
    "    latlng = None\n",
    "    while(latlng == None):\n",
    "        latlng = geocoder.google(lugar).latlng\n",
    "    print(latlng)\n",
    "    pais = (lugar, latlng, asdf[x])\n",
    "    l.append(pais)\n",
    "\n",
    "l"
   ]
  },
  {
   "cell_type": "code",
   "execution_count": 192,
   "metadata": {},
   "outputs": [
    {
     "data": {
      "text/html": [
       "<div style=\"width:100%;\"><div style=\"position:relative;width:100%;height:0;padding-bottom:60%;\"><iframe src=\"data:text/html;charset=utf-8;base64,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\" style=\"position:absolute;width:100%;height:100%;left:0;top:0;border:none !important;\" allowfullscreen webkitallowfullscreen mozallowfullscreen></iframe></div></div>"
      ],
      "text/plain": [
       "<folium.folium.Map at 0xaf9bfd0>"
      ]
     },
     "execution_count": 192,
     "metadata": {},
     "output_type": "execute_result"
    }
   ],
   "source": [
    "m = folium.Map(location = [35.629493, -31.945866],tiles = 'cartodbdark_matter', zoom_start = 3)\n",
    "\n",
    "for weaita in l:\n",
    "    text = weaita[0] + ', ' + str(weaita[2])\n",
    "    folium.Marker(weaita[1], popup=text).add_to(m)\n",
    "m"
   ]
  },
  {
   "cell_type": "code",
   "execution_count": null,
   "metadata": {},
   "outputs": [],
   "source": []
  }
 ],
 "metadata": {
  "kernelspec": {
   "display_name": "Python 3",
   "language": "python",
   "name": "python3"
  },
  "language_info": {
   "codemirror_mode": {
    "name": "ipython",
    "version": 3
   },
   "file_extension": ".py",
   "mimetype": "text/x-python",
   "name": "python",
   "nbconvert_exporter": "python",
   "pygments_lexer": "ipython3",
   "version": "3.6.5"
  }
 },
 "nbformat": 4,
 "nbformat_minor": 2
}
